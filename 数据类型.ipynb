{
 "cells": [
  {
   "cell_type": "code",
   "execution_count": 1,
   "metadata": {},
   "outputs": [
    {
     "data": {
      "text/plain": [
       "37"
      ]
     },
     "execution_count": 1,
     "metadata": {},
     "output_type": "execute_result"
    }
   ],
   "source": [
    "ord('%')  # 查看 % 符号的ASCII值  37"
   ]
  },
  {
   "cell_type": "code",
   "execution_count": 2,
   "metadata": {},
   "outputs": [
    {
     "data": {
      "text/plain": [
       "97"
      ]
     },
     "execution_count": 2,
     "metadata": {},
     "output_type": "execute_result"
    }
   ],
   "source": [
    "ord('a')  # 查看 a 符号的ASCII值  97"
   ]
  },
  {
   "cell_type": "code",
   "execution_count": 9,
   "metadata": {},
   "outputs": [
    {
     "name": "stdout",
     "output_type": "stream",
     "text": [
      "Z\n"
     ]
    }
   ],
   "source": [
    "import random\n",
    "\n",
    "# 随机产生A-Z之间的字符\n",
    "ord_ = random.randint(ord('A'), ord('Z')) # [A, Z]\n",
    "print(chr(ord_))"
   ]
  },
  {
   "cell_type": "code",
   "execution_count": 13,
   "metadata": {},
   "outputs": [
    {
     "name": "stdout",
     "output_type": "stream",
     "text": [
      "qs8Z\n"
     ]
    }
   ],
   "source": [
    "def randomStr(startChar, endChar):\n",
    "    return chr(random.randint(ord(startChar), ord(endChar)))\n",
    "\n",
    "# 随机产生len长度的验证码（包含数字、大小英文字母）\n",
    "def newVerifyCode(len):\n",
    "    vcode = []  # 验证码\n",
    "    for _ in range(len):\n",
    "        # 确定本次循环是随机生成数字还是大小写英文字母\n",
    "        s_ = random.randint(1,3)  #  1： 数字， 2： 大写英文字母， 3： 小写英文字母\n",
    "        chars = ('0', '9') if s_ == 1 else ('A', 'Z') if s_ == 2 else ('a', 'z')\n",
    "        vcode.append(randomStr(*chars))\n",
    "    \n",
    "    return ''.join(vcode)\n",
    "\n",
    "print(newVerifyCode(4))"
   ]
  },
  {
   "cell_type": "code",
   "execution_count": 21,
   "metadata": {},
   "outputs": [
    {
     "data": {
      "text/plain": [
       "'0b1010'"
      ]
     },
     "execution_count": 21,
     "metadata": {},
     "output_type": "execute_result"
    }
   ],
   "source": [
    "int('0o100',base=8)  # 按8进制转成10 进制数值\n",
    "int('0x75', base=0)  # 按16进制转成10 进制数值\n",
    "# 将10进制转成16进制, 如117 -> 0x75\n",
    "hex(117)\n",
    "oct(65)  # 将65的10进制转成8进制 0o101\n",
    "bin(10)  # 将10的10进制转成2进制 0b1010"
   ]
  },
  {
   "cell_type": "code",
   "execution_count": 27,
   "metadata": {},
   "outputs": [
    {
     "name": "stdout",
     "output_type": "stream",
     "text": [
      "1\n",
      "8\n",
      "9\n",
      "9\n"
     ]
    }
   ],
   "source": [
    "# 列出位运算操作符：  & 位与， | 位或 ，^位异或， ～位取反\n",
    "# Linux文件的权限：  rwx  7  --- --- ---   ,  chmod \n",
    "# 权限系统： \n",
    "#    权限（权限ID， 名称， 权限值）\n",
    "#         1,    增加，    1  ->   0001\n",
    "#         2，    修改，   2   ->  0010\n",
    "#         3,     删除,   4   ->  0100\n",
    "#         4,     查询,   8   ->  1000\n",
    "\n",
    "#    角色： 管理员/部门主管  －> 权限 （1|2|4|8 ＝ 15 = 1111）\n",
    "#          普通用户        －> 权限 (8|1 = 9 ＝1001)\n",
    "\n",
    "#    验证权限(修改权限)：   9 ＝ 1001 & 0010 = 0000 = 0 != 0010  则没有修改权限\n",
    "#    删除权限( 增加权限)：  先验证，再异或(两个相同为0，不同为1)\n",
    "#                      9 & 1 == 1 现在有增加权限\n",
    "#                      9 ^ 1 == 8 \n",
    "#                    1001\n",
    "#              ^     0001\n",
    "#                    1000\n",
    "print(9 & 1)\n",
    "print(9 ^ 1)\n",
    "print(8 | 1)\n",
    "print(9 ^ 2)  #   1001   ^ 0010 = 1011  "
   ]
  },
  {
   "cell_type": "code",
   "execution_count": 37,
   "metadata": {},
   "outputs": [
    {
     "name": "stdout",
     "output_type": "stream",
     "text": [
      "False\n",
      "False\n",
      "False\n",
      "False\n",
      "False\n",
      "False\n",
      "False\n"
     ]
    }
   ],
   "source": [
    "# 哪些字符是False\n",
    "print(bool(''))\n",
    "print(bool([]))\n",
    "print(bool(0))\n",
    "print(bool(()))  # 空元组\n",
    "print(bool({}))\n",
    "print(bool(None))\n",
    "print(bool(set()))"
   ]
  },
  {
   "cell_type": "code",
   "execution_count": 41,
   "metadata": {},
   "outputs": [
    {
     "name": "stdout",
     "output_type": "stream",
     "text": [
      "1\n",
      "False\n",
      "True\n"
     ]
    }
   ],
   "source": [
    "print(True & 1)  # bool类型参数运算，则先转成数值 False为0, True 为 1 \n",
    "# all() 和 any()\n",
    "print(all((True, False, True)))  # all()中所有的bool结果都为True时，返回True,反之返回False\n",
    "print(any((True, False, False)))  # any()中只要存在一个bool为True，则返回True"
   ]
  },
  {
   "cell_type": "code",
   "execution_count": 1,
   "metadata": {},
   "outputs": [
    {
     "name": "stdout",
     "output_type": "stream",
     "text": [
      "[(1, 'disen', 20), (2, 'zz', 21), (3, 'zlp', 18)]\n",
      "[(2, 'zz', 21), (1, 'disen', 20), (3, 'zlp', 18)]\n"
     ]
    }
   ],
   "source": [
    "# 给定list 数据，按年龄排序\n",
    "ps = [(1,'disen', 20), (2, 'zz', 21), (3, 'zlp', 18)]\n",
    "# ps.sort(key=lambda item: item[2], reverse=True)\n",
    "# print(ps)\n",
    "\n",
    "# list.sort() 与 sorted()区别\n",
    "ps_ = sorted(ps, key=lambda item: item[2], reverse=True)\n",
    "print(ps)\n",
    "print(ps_)\n"
   ]
  },
  {
   "cell_type": "code",
   "execution_count": 11,
   "metadata": {},
   "outputs": [
    {
     "name": "stdout",
     "output_type": "stream",
     "text": [
      "32\n",
      "[1, 2, 3, 4, 5, 6]\n",
      "[10]\n",
      "[2, 5, 20]\n",
      "[10, 8]\n"
     ]
    }
   ],
   "source": [
    "# 统计list列表中item\n",
    "#ps = [1,3,2,3,1,5,7,9,5]\n",
    "#print(ps.count(3))\n",
    "\n",
    "#import collections\n",
    "#ps_ = collections.Counter(ps)  # 统计器对象，内容是字典\n",
    "#for key,value in ps_.items():\n",
    "#    print(key, value)\n",
    "    \n",
    "\n",
    "# 找出list列表中所有的偶数，并加上3后算出所有数的和\n",
    "ps = [1,2,3,4,5,6,7,8]\n",
    "print(sum([i+3 for i in ps if i % 2 == 0]))\n",
    "\n",
    "# 将list列表中包含的列表折分出一个列表\n",
    "ps = [[1,2], [3,4], [5,6]]\n",
    "ps = [i for item in ps for i in item]\n",
    "print(ps)\n",
    "\n",
    "# 空列表是否可以作为函数参数的默认值？ 答： 不可以\n",
    "def add(n, l=[]):\n",
    "    l.append(n)\n",
    "    print(l)\n",
    "    \n",
    "add(10)  # 输出： ［10］\n",
    "add(20, [2,5])  # 输出:  ［2，5，20］\n",
    "add(8)  # 输出 ： [10， 8]  期望输出： [8]"
   ]
  },
  {
   "cell_type": "code",
   "execution_count": 33,
   "metadata": {},
   "outputs": [
    {
     "name": "stdout",
     "output_type": "stream",
     "text": [
      "{'id': 101, 'name': 'disen', 'age': 30, 'sex': '男', 'salary': 25}\n",
      "{101: 'id', 'disen': 'name', 30: 'age', '男': 'sex', 25: 'salary'}\n",
      "{101: 'id', 'disen': 'name', 30: 'age', '男': 'sex', 25: 'salary', (101, 'lovies'): ['打篮球', '看小说']}\n",
      "OrderedDict([('a', '80'), ('c', 99), ('b', 109)])\n",
      "{'a': 80, 'c': 99, 'b': 109}\n"
     ]
    }
   ],
   "source": [
    "person = {'id':101, 'name':'disen', 'age':20}\n",
    "person2 = {'id':101, 'age':30, 'sex':'男'}\n",
    "person.update(person2)\n",
    "person.setdefault('salary', 25)  # 如果key不存在，则添加，反之不添加\n",
    "print(person)\n",
    "\n",
    "# 一行代码实现字典的key和value互换\n",
    "person = {value:key for key,value in person.items()}\n",
    "print(person)\n",
    "\n",
    "# 哪些类型可以作为key\n",
    "# str, int, tuple\n",
    "person.update({(101,'lovies'): ['打篮球','看小说']})\n",
    "print(person)\n",
    "\n",
    "from collections import OrderedDict\n",
    "# help(OrderedDict)\n",
    "od = OrderedDict()  # 有序字典， 按添加的先后顺序显示\n",
    "od['a'] = '80'\n",
    "od['c'] = 99\n",
    "od['b'] = 109\n",
    "# od.move_to_end('a')  # 将任意的key移动最后\n",
    "print(od)\n",
    "\n",
    "d = {}  \n",
    "d['a'] = 80\n",
    "d['c'] = 99\n",
    "d['b'] = 109\n",
    "print(d)"
   ]
  },
  {
   "cell_type": "code",
   "execution_count": 39,
   "metadata": {},
   "outputs": [
    {
     "name": "stdout",
     "output_type": "stream",
     "text": [
      "True\n"
     ]
    }
   ],
   "source": [
    "f = open('dict_.py')\n",
    "# help(f)\n",
    "#for line in f:\n",
    "    # print(line)\n",
    "    \n",
    "from collections import Iterable\n",
    "print(isinstance(f, Iterable))  # 文件对象 open()-> TextIOWrapper"
   ]
  },
  {
   "cell_type": "code",
   "execution_count": 41,
   "metadata": {},
   "outputs": [
    {
     "name": "stdout",
     "output_type": "stream",
     "text": [
      "200\n"
     ]
    }
   ],
   "source": [
    "# 函数也是对象， 类也是对象(元类metaclass)，类的实例对象\n",
    "def f(n):\n",
    "    f.n += n\n",
    "    print(f.n)\n",
    "    \n",
    "f.n = 100  # 通过函数对象动态添加属性\n",
    "f(100)  # 打印： 200\n"
   ]
  },
  {
   "cell_type": "code",
   "execution_count": 54,
   "metadata": {},
   "outputs": [
    {
     "name": "stdout",
     "output_type": "stream",
     "text": [
      "连接成功!\n",
      "孙风 1990-20-05\n",
      "李云 1990-06-08\n",
      "<class 'datetime.datetime'>\n"
     ]
    }
   ],
   "source": [
    "# 关键参数 **kwargs 字典类型\n",
    "from pymysql import Connect\n",
    "\n",
    "DB_SETTINGS = {\n",
    "    'host': '127.0.0.1',\n",
    "    'port':3306,\n",
    "    'user':'root',\n",
    "    'password': 'root',\n",
    "    'db': 'stu',\n",
    "    'charset': 'utf8'\n",
    "}\n",
    "\n",
    "db = Connect(**DB_SETTINGS) # 将字典转成关键参数格式\n",
    "\n",
    "print('连接成功!')\n",
    "\n",
    "cursor = db.cursor()\n",
    "cursor.execute('select * from student limit 2, 2')\n",
    "\n",
    "for row in cursor.fetchall():\n",
    "    print(row[1], row[2].strftime('%Y-%d-%m'))  # strftime 将datetime对象转成指定格式的字符串\n",
    "    \n",
    "from datetime import datetime\n",
    "#  将日期字符串按指定的格式转成datetime对象\n",
    "print(type(datetime.strptime('2016-10-12', '%Y-%d-%m')))  "
   ]
  },
  {
   "cell_type": "code",
   "execution_count": 65,
   "metadata": {},
   "outputs": [
    {
     "name": "stdout",
     "output_type": "stream",
     "text": [
      "--主线程完成任务---\n",
      "http://www.baidu.com --请求成功--\n",
      "--save-- http://www.baidu.com\n",
      "Thread-13 --线程完成任务---\n"
     ]
    }
   ],
   "source": [
    "# 回调函数的应用(threading模块和urllib模块)\n",
    "from urllib import request\n",
    "from threading import Thread, current_thread\n",
    "from uuid import uuid4\n",
    "\n",
    "def save(url, data):\n",
    "    print('--save--', url)\n",
    "    # 保存文件中\n",
    "    \n",
    "    with open(str(uuid4()).replace('-', '')+'.html', 'wb') as f:\n",
    "        f.write(data)\n",
    "        \n",
    "    print(current_thread().name, '--线程完成任务---')\n",
    "    \n",
    "\n",
    "def download(url, callback=None):\n",
    "    resp = request.urlopen(url)\n",
    "    print(url, '--请求成功--')\n",
    "    callback(url, resp.read())\n",
    "    \n",
    "\n",
    "def main():\n",
    "    url = 'http://www.baidu.com'\n",
    "    # 异步处理\n",
    "    Thread(target=download, args=(url, save)).start()  # 创建线程并启动\n",
    "    \n",
    "    print('--主线程完成任务---')\n",
    "    \n",
    "main()"
   ]
  },
  {
   "cell_type": "code",
   "execution_count": 70,
   "metadata": {},
   "outputs": [
    {
     "name": "stdout",
     "output_type": "stream",
     "text": [
      "---需要返回包装函数---\n",
      "--开始执行闭包函数--\n",
      "http://www.hao123.com --请求成功--\n",
      "--save-- http://www.hao123.com\n",
      "MainThread --线程完成任务---\n",
      "get 用时: 0.084900 秒\n"
     ]
    }
   ],
   "source": [
    "import time\n",
    "\n",
    "# 装饰函数（有参、无参）\n",
    "# 实现一个运行时间的装饰函数（无参）\n",
    "def runtime(func):\n",
    "    print('---需要返回包装函数---')\n",
    "    def wrapper(*args, **kwargs):\n",
    "        print('--开始执行闭包函数--')\n",
    "        # 执行函数前，开始计时\n",
    "        start_time = time.time()\n",
    "        result = func(*args,**kwargs)\n",
    "        \n",
    "        # 计算func函数对象运行的时间\n",
    "        used_seconds = round(time.time()-start_time,4)  # 四舍五入，取4位小数部分\n",
    "        \n",
    "        print(func.__name__, '用时: %f 秒' % used_seconds )\n",
    "        \n",
    "        return result\n",
    "    return wrapper  # 返回包装函数\n",
    "\n",
    "@runtime\n",
    "def get(url):\n",
    "    download(url, save)\n",
    "    \n",
    "get('http://www.hao123.com')"
   ]
  },
  {
   "cell_type": "code",
   "execution_count": 79,
   "metadata": {},
   "outputs": [
    {
     "name": "stdout",
     "output_type": "stream",
     "text": [
      "当前用户无权限操作。如有疑问，请联系管理员！\n"
     ]
    }
   ],
   "source": [
    "# 实现权限验证\n",
    "# 增加 1 ADD;  修改 2 UPDATE ; 删除 4 DELETE; 查询 8 QUERY\n",
    "rights = {'ADD':1, 'UPDATE':2, 'DELETE':4, 'QUERY':8}\n",
    "\n",
    "# 假如当前用户拥有ADD和QUERY查询权限\n",
    "user_right = 10\n",
    "\n",
    "def check_qx(qxName):\n",
    "    def wrapper1(func):\n",
    "        def wrapper2(*args, **kwargs):\n",
    "            # 验证权限是否具有 qxName\n",
    "            right = rights.get(qxName)\n",
    "            if right:\n",
    "                if user_right & right == right:\n",
    "                    # 有权限\n",
    "                    result = func(*args,**kwargs)\n",
    "                    return result\n",
    "                else:\n",
    "                    print('当前用户无权限操作。如有疑问，请联系管理员！')\n",
    "            else:\n",
    "                print('请输入正解的权限名称')\n",
    "        return wrapper2 # 返回包装被装饰函数的参数的函数\n",
    "    return wrapper1  # 返回包装被装饰函数的函数\n",
    "\n",
    "@check_qx('ADD')\n",
    "def addOrder(order_number, order_salary):\n",
    "    print('正在添加订单号：', order_number, ', 本次待支持的金额(元): ', order_salary)\n",
    "    \n",
    "addOrder(1, 1000)"
   ]
  },
  {
   "cell_type": "code",
   "execution_count": 89,
   "metadata": {},
   "outputs": [
    {
     "name": "stdout",
     "output_type": "stream",
     "text": [
      "正在删除订单号： 101\n"
     ]
    }
   ],
   "source": [
    "user_right = 7\n",
    "# 装饰器类(有参、 无参)\n",
    "class QXWrapper:  \n",
    "    def __init__(self,func):\n",
    "        self.func = func\n",
    "        \n",
    "    def __call__(self, *args, **kwargs):\n",
    "        # 判断当前用户是否具有查询是查询\n",
    "        if user_right & 8 == 8:\n",
    "            result = self.func(*args, **kwargs)\n",
    "            return result\n",
    "        else:\n",
    "            print('--当前用户没有查询权限-')\n",
    "            \n",
    "\n",
    "class QX_CHECK:  \n",
    "    def __init__(self, qxName):\n",
    "        self.qxName = qxName\n",
    "        \n",
    "    def __call__(self, func):\n",
    "        def wrapper(*args, **kwargs):\n",
    "            # 判断当前用户是否具有查询是查询\n",
    "            right = rights.get(self.qxName)\n",
    "            if right:\n",
    "                if user_right & right == right:\n",
    "                    result = func(*args, **kwargs)\n",
    "                    return result\n",
    "                else:\n",
    "                    print('--当前用户没有 %s -' % self.qxName)\n",
    "            else:\n",
    "                print('---%s 权限是不存在 ---' % self.qxName )\n",
    "        return wrapper\n",
    "    \n",
    "\n",
    "@QX_CHECK('DELETE')  # 装饰类（有参）\n",
    "def deleteOrder(order_number):\n",
    "    print('正在删除订单号：', order_number)\n",
    "\n",
    "deleteOrder(101)    "
   ]
  }
 ],
 "metadata": {
  "kernelspec": {
   "display_name": "Python 3",
   "language": "python",
   "name": "python3"
  },
  "language_info": {
   "codemirror_mode": {
    "name": "ipython",
    "version": 3
   },
   "file_extension": ".py",
   "mimetype": "text/x-python",
   "name": "python",
   "nbconvert_exporter": "python",
   "pygments_lexer": "ipython3",
   "version": "3.6.3"
  }
 },
 "nbformat": 4,
 "nbformat_minor": 2
}
